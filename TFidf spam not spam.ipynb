{
 "cells": [
  {
   "cell_type": "code",
   "execution_count": 4,
   "metadata": {},
   "outputs": [],
   "source": [
    "import nltk\n",
    "import pandas as pd\n",
    "import os\n",
    "messages=pd.read_csv(r'C:\\Users\\abhis\\Desktop\\dataset.csv', names=[\"category\",'message'])"
   ]
  },
  {
   "cell_type": "code",
   "execution_count": 5,
   "metadata": {},
   "outputs": [],
   "source": [
    "#data cleaning and preprocessing\n",
    "#stemming is faster then lemmetization so here i m used stemming\n",
    "import re\n",
    "from nltk.corpus import stopwords\n",
    "#porterstemmer using for stem its a techinque that find the root word \n",
    "from nltk.stem.porter import PorterStemmer\n",
    "# from nltk.stem import WordNetLemmatizer\n",
    "ps=PorterStemmer()\n",
    "# lm=WordNetLemmatizer()\n",
    "corpus=[]\n",
    "for i in  range(0,len(messages)):\n",
    "    r=re.sub('[^a-zA-Z]', ' ',messages['message'][i])\n",
    "    r=r.lower()\n",
    "    r=r.split()\n",
    "    \n",
    "    r=[ps.stem(word) for word in r if not word in stopwords.words('english')]\n",
    "    r=' '.join(r)\n",
    "    corpus.append(r)\n",
    "# print(corpus)"
   ]
  },
  {
   "cell_type": "code",
   "execution_count": 6,
   "metadata": {},
   "outputs": [],
   "source": [
    "from sklearn.feature_extraction.text import TfidfVectorizer\n",
    "tf=TfidfVectorizer()\n",
    "X=tf.fit_transform(corpus).toarray()\n",
    "\n",
    "y=pd.get_dummies(messages['category'])# it used for change ham and spam \"1\"\n",
    "# print(y)\n",
    "y=y.iloc[:,1].values #it used for takes one column\n",
    "# print(y)"
   ]
  },
  {
   "cell_type": "code",
   "execution_count": 7,
   "metadata": {},
   "outputs": [],
   "source": [
    "#test train split\n",
    "\n",
    "from sklearn.model_selection import train_test_split\n",
    "X_train,X_test,y_train, y_test=train_test_split(X,y,test_size=0.20,random_state=0)"
   ]
  },
  {
   "cell_type": "code",
   "execution_count": 11,
   "metadata": {
    "scrolled": true
   },
   "outputs": [
    {
     "name": "stdout",
     "output_type": "stream",
     "text": [
      "MultinomialNB    0.9668161434977578\n",
      "LogisticRegression    0.9695067264573991\n",
      "KNeighborsClassifier    0.9542600896860987\n",
      "RandomForestClassifier    0.9775784753363229\n",
      "AdaBoostClassifier    0.9668161434977578\n",
      "SVC    0.9847533632286996\n"
     ]
    }
   ],
   "source": [
    "# training model \n",
    "prediction = dict()\n",
    "from sklearn.naive_bayes import MultinomialNB\n",
    "from sklearn.linear_model import LogisticRegression\n",
    "from sklearn.neighbors import KNeighborsClassifier\n",
    "from sklearn.svm import SVC\n",
    "from sklearn.metrics import confusion_matrix,accuracy_score\n",
    "\n",
    "pipeline = [MultinomialNB(), LogisticRegression(), KNeighborsClassifier(n_neighbors=1),SVC(kernel='linear')]\n",
    "modelNames = []\n",
    "for model in pipeline:\n",
    "    modelName = str(model)[0:str(model).index('(')]\n",
    "    modelNames.append(modelName)\n",
    "    model.fit(X_train,y_train)\n",
    "    prediction[modelName] = model.predict(X_test)\n",
    "    print(modelName +\"    \"+ str(accuracy_score(y_test,prediction[modelName])))\n",
    "\n",
    "    \n",
    "# spam_detect_model=MultinomialNB().fit(X_train,y_train)\n",
    "\n",
    "# y_pred=spam_detect_model.predict(X_test)\n",
    "# print(y_pred)\n",
    "\n",
    "\n",
    "# confusion_m=confusion_matrix(y_pred,y_test)\n",
    "# print(confusion_m)\n",
    "\n",
    "# accuracy=accuracy_score(y_pred,y_test)\n",
    "# print(accuracy)"
   ]
  },
  {
   "cell_type": "markdown",
   "metadata": {},
   "source": [
    "[[ 98   0]\n",
    " [ 38 979]]\n",
    "0.9659192825112107 in lemmatizer\n",
    "[[ 99   0]\n",
    " [ 37 979]]\n",
    "0.9668161434977578 in stemming"
   ]
  }
 ],
 "metadata": {
  "kernelspec": {
   "display_name": "Python 3",
   "language": "python",
   "name": "python3"
  },
  "language_info": {
   "codemirror_mode": {
    "name": "ipython",
    "version": 3
   },
   "file_extension": ".py",
   "mimetype": "text/x-python",
   "name": "python",
   "nbconvert_exporter": "python",
   "pygments_lexer": "ipython3",
   "version": "3.7.6"
  }
 },
 "nbformat": 4,
 "nbformat_minor": 4
}
