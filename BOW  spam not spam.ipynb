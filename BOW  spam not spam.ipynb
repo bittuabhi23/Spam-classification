{
 "cells": [
  {
   "cell_type": "code",
   "execution_count": 47,
   "metadata": {},
   "outputs": [],
   "source": [
    "import nltk\n",
    "import pandas as pd\n",
    "import os\n",
    "\n",
    "messages=pd.read_csv(r'C:\\Users\\abhis\\Desktop\\dataset.csv', names=[\"category\",'message'])\n",
    "# print(messages)\n",
    "\n",
    "\n"
   ]
  },
  {
   "cell_type": "code",
   "execution_count": 49,
   "metadata": {},
   "outputs": [],
   "source": [
    "#data cleaning and preprocessing\n",
    "#stemming is faster then lemmetization so here i m used stemming\n",
    "import re\n",
    "from nltk.corpus import stopwords\n",
    "#porterstemmer using for stem its a techinque that find the root word \n",
    "# from nltk.stem.porter import PorterStemmer\n",
    "from nltk.stem import WordNetLemmatizer\n",
    "# ps=PorterStemmer()\n",
    "lm=WordNetLemmatizer()\n",
    "corpus=[]\n",
    "for i in  range(0,len(messages)):\n",
    "    r=re.sub('[^a-zA-Z]', ' ',messages['message'][i])\n",
    "    r=r.lower()\n",
    "    r=r.split()\n",
    "    \n",
    "    r=[lm.lemmatize(word) for word in r if not word in stopwords.words('english')]\n",
    "    r=' '.join(r)\n",
    "    corpus.append(r)\n",
    "# print(corpus)"
   ]
  },
  {
   "cell_type": "code",
   "execution_count": 41,
   "metadata": {},
   "outputs": [
    {
     "name": "stdout",
     "output_type": "stream",
     "text": [
      "      Category  ham  spam\n",
      "0            1    0     0\n",
      "1            0    1     0\n",
      "2            0    1     0\n",
      "3            0    0     1\n",
      "4            0    1     0\n",
      "...        ...  ...   ...\n",
      "5568         0    0     1\n",
      "5569         0    1     0\n",
      "5570         0    1     0\n",
      "5571         0    1     0\n",
      "5572         0    1     0\n",
      "\n",
      "[5573 rows x 3 columns]\n",
      "[0 1 1 ... 1 1 1]\n"
     ]
    }
   ],
   "source": [
    "#using beg of word\n",
    "from sklearn.feature_extraction.text  import CountVectorizer\n",
    "cv=CountVectorizer()\n",
    "X=cv.fit_transform(corpus).toarray()\n",
    "\n",
    "y=pd.get_dummies(messages['category'])# it used for change ham and spam \"1\"\n",
    "print(y)\n",
    "y=y.iloc[:,1].values #it used for takes one column\n",
    "print(y)"
   ]
  },
  {
   "cell_type": "code",
   "execution_count": 42,
   "metadata": {},
   "outputs": [],
   "source": [
    "#test train split\n",
    "from sklearn.model_selection import train_test_split\n",
    "X_train,X_test,y_train, y_test=train_test_split(X,y,test_size=0.20,random_state=0)\n",
    "# print(X_train,X_test,y_train, y_test)"
   ]
  },
  {
   "cell_type": "code",
   "execution_count": 43,
   "metadata": {},
   "outputs": [
    {
     "name": "stdout",
     "output_type": "stream",
     "text": [
      "[1 1 1 ... 1 1 1]\n",
      "[[131  15]\n",
      " [  5 964]]\n",
      "0.9820627802690582\n"
     ]
    }
   ],
   "source": [
    "# training model using navie bayes classification\n",
    "from sklearn.naive_bayes import MultinomialNB\n",
    "spam_detect_model=MultinomialNB().fit(X_train,y_train)\n",
    "\n",
    "y_pred=spam_detect_model.predict(X_test)\n",
    "print(y_pred)\n",
    "\n",
    "from sklearn.metrics import confusion_matrix,accuracy_score\n",
    "confusion_m=confusion_matrix(y_pred,y_test)\n",
    "print(confusion_m)\n",
    "\n",
    "accuracy=accuracy_score(y_pred,y_test)\n",
    "print(accuracy)\n"
   ]
  },
  {
   "cell_type": "markdown",
   "metadata": {},
   "source": [
    "using Stemming i got 0.9820627802690582 accuracy and  i used lemmatizer i got 0.9820627802690582"
   ]
  }
 ],
 "metadata": {
  "kernelspec": {
   "display_name": "Python 3",
   "language": "python",
   "name": "python3"
  },
  "language_info": {
   "codemirror_mode": {
    "name": "ipython",
    "version": 3
   },
   "file_extension": ".py",
   "mimetype": "text/x-python",
   "name": "python",
   "nbconvert_exporter": "python",
   "pygments_lexer": "ipython3",
   "version": "3.7.6"
  }
 },
 "nbformat": 4,
 "nbformat_minor": 4
}
